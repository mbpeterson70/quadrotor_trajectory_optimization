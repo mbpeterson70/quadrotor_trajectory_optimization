{
 "cells": [
  {
   "cell_type": "code",
   "execution_count": 2,
   "metadata": {},
   "outputs": [],
   "source": [
    "#!/usr/bin/python3\n",
    "import math\n",
    "\n",
    "import matplotlib.pyplot as plt\n",
    "import numpy as np\n",
    "from IPython.display import HTML, display\n",
    "from pydrake.all import (\n",
    "    AddMultibodyPlantSceneGraph,\n",
    "    ControllabilityMatrix,\n",
    "    DiagramBuilder,\n",
    "    Linearize,\n",
    "    LinearQuadraticRegulator,\n",
    "    MeshcatVisualizer,\n",
    "    Parser,\n",
    "    Saturation,\n",
    "    SceneGraph,\n",
    "    Simulator,\n",
    "    StartMeshcat,\n",
    "    WrapToSystem,\n",
    "    PointCloud,\n",
    "    MeshcatPointCloudVisualizer,\n",
    "    BaseField,\n",
    "    Fields,\n",
    "    Rgba\n",
    ")\n",
    "from pydrake.examples import (\n",
    "    AcrobotGeometry,\n",
    "    AcrobotInput,\n",
    "    AcrobotPlant,\n",
    "    AcrobotState,\n",
    "    QuadrotorGeometry,\n",
    "    QuadrotorPlant,\n",
    "    StabilizingLQRController,\n",
    ")\n",
    "from pydrake.symbolic import Variable\n",
    "from pydrake.systems.primitives import SymbolicVectorSystem\n",
    "from pydrake.solvers import MathematicalProgram, Solve\n",
    "\n",
    "from quad_traj_opt.trajectory_optimization import TrajectoryOptimization\n",
    "from quad_traj_opt.differential_flatness import trajectory_to_state\n",
    "import quad_traj_opt.trajectory_controller\n",
    "from quad_traj_opt.utils import waypoints_to_point_cloud\n",
    "\n",
    "import quadrotor_params as p\n",
    "import waypoint_library\n"
   ]
  },
  {
   "cell_type": "code",
   "execution_count": 4,
   "metadata": {},
   "outputs": [],
   "source": [
    "# waypoints = waypoint_library.waypoints_straight\n",
    "waypoints = waypoint_library.waypoints_flip/3\n",
    "headings = np.zeros((1, waypoints.shape[1]))\n",
    "\n",
    "traj_gen = TrajectoryOptimization(waypoints, headings, ts=0.5)\n",
    "traj_gen.solve()\n",
    "\n",
    "# t = np.linspace(0, traj_gen.tf, 1000)\n",
    "dt = .01\n",
    "t = np.arange(0.0, traj_gen.tf, dt)"
   ]
  },
  {
   "cell_type": "code",
   "execution_count": 5,
   "metadata": {},
   "outputs": [
    {
     "name": "stderr",
     "output_type": "stream",
     "text": [
      "INFO:drake:Meshcat listening for connections at http://localhost:7004\n"
     ]
    }
   ],
   "source": [
    "running_as_notebook = True\n",
    "meshcat = StartMeshcat()\n",
    "builder = DiagramBuilder()\n",
    "waypoint_vis = waypoints_to_point_cloud(waypoints, \n",
    "    pts_per_edge=p.keyframes_pts_per_edge, half_width=p.keyframes_half_width)\n",
    "\n",
    "plant = builder.AddSystem(QuadrotorPlant(\n",
    "    m_arg=p.m_kg,\n",
    "    L_arg=p.L_m,\n",
    "    I_arg=p.J,\n",
    "    kF_arg=p.kF,\n",
    "    kM_arg=p.kM\n",
    "))\n",
    "\n",
    "point_cloud = PointCloud(new_size=len(t), fields=Fields(BaseField.kXYZs))\n",
    "thing = point_cloud.mutable_xyzs()\n",
    "for i, ti in enumerate(t):\n",
    "    thing[:,i] = traj_gen.eval_trajectory(ti, 0)\n",
    "meshcat.SetObject(\"/point_cloud/\", point_cloud, point_size=.05, rgba=Rgba(1.0, 0.0, 0.5, 1.0))\n",
    "meshcat.SetObject(\"/waypoints/\", waypoint_vis, point_size=.05, rgba=Rgba(0.0, 0.5, 0.5, 1.0))\n",
    "\n",
    "# Set up visualization in MeshCat\n",
    "scene_graph = builder.AddSystem(SceneGraph())\n",
    "QuadrotorGeometry.AddToBuilder(\n",
    "    builder, plant.get_output_port(0), scene_graph\n",
    ")\n",
    "meshcat.Delete()\n",
    "meshcat.ResetRenderMode()\n",
    "meshcat.SetProperty(\"/Background\", \"visible\", False)\n",
    "MeshcatVisualizer.AddToBuilder(builder, scene_graph, meshcat)\n",
    "# end setup for visualization\n",
    "\n",
    "diagram = builder.Build()\n",
    "\n",
    "# Set up a simulator to run this diagram\n",
    "simulator = Simulator(diagram)\n",
    "simulator.set_target_realtime_rate(1.0 if running_as_notebook else 0.0)\n",
    "context = simulator.get_mutable_context()\n",
    "# print(context.GetInputPort())"
   ]
  },
  {
   "cell_type": "code",
   "execution_count": 6,
   "metadata": {},
   "outputs": [],
   "source": [
    "# Simulate\n",
    "for i in range(3):\n",
    "    context.SetTime(0.0)\n",
    "    simulator.Initialize()\n",
    "    context.SetContinuousState(np.zeros(12))\n",
    "\n",
    "    \n",
    "    \n",
    "    for ti in t[0:]:\n",
    "        try:\n",
    "            simulator.AdvanceTo(ti)\n",
    "        except:\n",
    "            simulator.Initialize()\n",
    "        traj_matrix = traj_gen.eval_full_trajectory(ti)\n",
    "        x = trajectory_to_state(traj_matrix, plant)\n",
    "        # x_part = np.vstack([x[:6,:], np.zeros((3,1)), x[9:,:]])\n",
    "        # x_part = np.vstack([x[:3,:], x[3:6,:], x[6:9, :], x[9:,:]])\n",
    "        # x_fixed = np.vstack([x[:2,:], [-x[2,:]], x[3:8], [-x[8,:]], x[9:,:]])\n",
    "        context.SetContinuousState(x)"
   ]
  }
 ],
 "metadata": {
  "kernelspec": {
   "display_name": "env",
   "language": "python",
   "name": "python3"
  },
  "language_info": {
   "codemirror_mode": {
    "name": "ipython",
    "version": 3
   },
   "file_extension": ".py",
   "mimetype": "text/x-python",
   "name": "python",
   "nbconvert_exporter": "python",
   "pygments_lexer": "ipython3",
   "version": "3.10.6"
  },
  "orig_nbformat": 4
 },
 "nbformat": 4,
 "nbformat_minor": 2
}
